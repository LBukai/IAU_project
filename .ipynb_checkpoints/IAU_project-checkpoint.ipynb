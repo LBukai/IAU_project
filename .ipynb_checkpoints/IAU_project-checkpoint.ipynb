{
 "cells": [
  {
   "cell_type": "code",
   "execution_count": 0,
   "metadata": {
    "colab": {},
    "colab_type": "code",
    "id": "W_ml1zDJsxNq"
   },
   "outputs": [],
   "source": [
    "import pandas as pd\n",
    "import numpy as np\n",
    "import matplotlib.pyplot as plt\n",
    "import scipy.stats as sc\n",
    "import io\n",
    "import requests\n",
    "\n",
    "url1 = \"https://raw.githubusercontent.com/LBukai/IAU_project/master/other_train.csv\"\n",
    "url2 = \"https://raw.githubusercontent.com/LBukai/IAU_project/master/personal_train.csv\"\n",
    "\n",
    "db1 = requests.get(url1).content\n",
    "db2 = requests.get(url2).content\n",
    "train = pd.read_csv(io.StringIO(db1.decode('utf-8')))\n",
    "other = pd.read_csv(io.StringIO(db2.decode('utf-8')))\n"
   ]
  },
  {
   "cell_type": "code",
   "execution_count": 0,
   "metadata": {
    "colab": {
     "base_uri": "https://localhost:8080/",
     "height": 825
    },
    "colab_type": "code",
    "id": "utikHCZL2Y5w",
    "outputId": "e59ab3bd-7639-4668-a64a-bd0ab9c0f229"
   },
   "outputs": [
    {
     "data": {
      "text/html": [
       "<div>\n",
       "<style scoped>\n",
       "    .dataframe tbody tr th:only-of-type {\n",
       "        vertical-align: middle;\n",
       "    }\n",
       "\n",
       "    .dataframe tbody tr th {\n",
       "        vertical-align: top;\n",
       "    }\n",
       "\n",
       "    .dataframe thead th {\n",
       "        text-align: right;\n",
       "    }\n",
       "</style>\n",
       "<table border=\"1\" class=\"dataframe\">\n",
       "  <thead>\n",
       "    <tr style=\"text-align: right;\">\n",
       "      <th></th>\n",
       "      <th>Unnamed: 0</th>\n",
       "      <th>name</th>\n",
       "      <th>address</th>\n",
       "      <th>kurtosis_oxygen</th>\n",
       "      <th>pregnant</th>\n",
       "      <th>education-num</th>\n",
       "      <th>relationship</th>\n",
       "      <th>skewness_glucose</th>\n",
       "      <th>mean_glucose</th>\n",
       "      <th>std_oxygen</th>\n",
       "      <th>capital-gain</th>\n",
       "      <th>skewness_oxygen</th>\n",
       "      <th>kurtosis_glucose</th>\n",
       "      <th>personal_info</th>\n",
       "      <th>education</th>\n",
       "      <th>fnlwgt</th>\n",
       "      <th>class</th>\n",
       "      <th>std_glucose</th>\n",
       "      <th>income</th>\n",
       "      <th>mean_oxygen</th>\n",
       "      <th>hours-per-week</th>\n",
       "      <th>capital-loss</th>\n",
       "    </tr>\n",
       "  </thead>\n",
       "  <tbody>\n",
       "    <tr>\n",
       "      <th>0</th>\n",
       "      <td>0</td>\n",
       "      <td>Milton Stamper</td>\n",
       "      <td>145 Autumn Manor\\r\\nNew Michael, NE 83039</td>\n",
       "      <td>10.177006</td>\n",
       "      <td>f</td>\n",
       "      <td>10.0</td>\n",
       "      <td>Unmarried</td>\n",
       "      <td>2.445834</td>\n",
       "      <td>87.835938</td>\n",
       "      <td>16.616788</td>\n",
       "      <td>0.0</td>\n",
       "      <td>114.800226</td>\n",
       "      <td>0.563505</td>\n",
       "      <td>Sales|United-States\\r\\r\\n?? -- Private|Black</td>\n",
       "      <td>Some-college</td>\n",
       "      <td>398843.0</td>\n",
       "      <td>0.0</td>\n",
       "      <td>36.762706</td>\n",
       "      <td>&lt;=50K</td>\n",
       "      <td>1.984114</td>\n",
       "      <td>35.0</td>\n",
       "      <td>0.0</td>\n",
       "    </tr>\n",
       "    <tr>\n",
       "      <th>1</th>\n",
       "      <td>1</td>\n",
       "      <td>Michael Pope</td>\n",
       "      <td>41479 Kelly Locks Apt. 061\\r\\nSuarezmouth, AK ...</td>\n",
       "      <td>19.674691</td>\n",
       "      <td>f</td>\n",
       "      <td>13.0</td>\n",
       "      <td>Husband</td>\n",
       "      <td>0.763944</td>\n",
       "      <td>140.343750</td>\n",
       "      <td>9.774889</td>\n",
       "      <td>0.0</td>\n",
       "      <td>444.481793</td>\n",
       "      <td>0.047948</td>\n",
       "      <td>Prof-specialty|United-States\\r\\r\\nMarried-civ-...</td>\n",
       "      <td>Bachelors</td>\n",
       "      <td>293535.0</td>\n",
       "      <td>0.0</td>\n",
       "      <td>42.872164</td>\n",
       "      <td>&gt;50K</td>\n",
       "      <td>0.638796</td>\n",
       "      <td>40.0</td>\n",
       "      <td>0.0</td>\n",
       "    </tr>\n",
       "    <tr>\n",
       "      <th>2</th>\n",
       "      <td>2</td>\n",
       "      <td>Leonard Buckley</td>\n",
       "      <td>0646 Adam Grove\\r\\nNew Jennifershire, NH 95027</td>\n",
       "      <td>9.009352</td>\n",
       "      <td>f</td>\n",
       "      <td>8.0</td>\n",
       "      <td>Not-in-family</td>\n",
       "      <td>0.023184</td>\n",
       "      <td>112.632812</td>\n",
       "      <td>13.678551</td>\n",
       "      <td>0.0</td>\n",
       "      <td>117.517856</td>\n",
       "      <td>0.403222</td>\n",
       "      <td>Transport-moving|United-States\\r\\r\\nDivorced -...</td>\n",
       "      <td>12th</td>\n",
       "      <td>156612.0</td>\n",
       "      <td>0.0</td>\n",
       "      <td>52.333944</td>\n",
       "      <td>&lt;=50K</td>\n",
       "      <td>2.458194</td>\n",
       "      <td>40.0</td>\n",
       "      <td>0.0</td>\n",
       "    </tr>\n",
       "    <tr>\n",
       "      <th>3</th>\n",
       "      <td>3</td>\n",
       "      <td>Ricky Paterson</td>\n",
       "      <td>430 Joseph Stravenue Suite 773\\r\\nSouth Jaclyn...</td>\n",
       "      <td>9.119079</td>\n",
       "      <td>FALSE</td>\n",
       "      <td>10.0</td>\n",
       "      <td>Not-in-family</td>\n",
       "      <td>-0.566705</td>\n",
       "      <td>128.390625</td>\n",
       "      <td>16.570603</td>\n",
       "      <td>0.0</td>\n",
       "      <td>102.301339</td>\n",
       "      <td>0.003284</td>\n",
       "      <td>Exec-managerial|United-States\\r\\r\\nWidowed -- ...</td>\n",
       "      <td>Some-college</td>\n",
       "      <td>208431.0</td>\n",
       "      <td>0.0</td>\n",
       "      <td>54.439794</td>\n",
       "      <td>&lt;=50K</td>\n",
       "      <td>2.672241</td>\n",
       "      <td>32.0</td>\n",
       "      <td>0.0</td>\n",
       "    </tr>\n",
       "    <tr>\n",
       "      <th>4</th>\n",
       "      <td>4</td>\n",
       "      <td>John Fontaine</td>\n",
       "      <td>379 Rodriguez Inlet\\r\\nFisherbury, MD 83114</td>\n",
       "      <td>0.303268</td>\n",
       "      <td>f</td>\n",
       "      <td>13.0</td>\n",
       "      <td>Own-child</td>\n",
       "      <td>16.967138</td>\n",
       "      <td>37.226562</td>\n",
       "      <td>45.169221</td>\n",
       "      <td>0.0</td>\n",
       "      <td>0.675770</td>\n",
       "      <td>3.643543</td>\n",
       "      <td>Adm-clerical|United-States\\r\\r\\n?? -- State-go...</td>\n",
       "      <td>Bachelors</td>\n",
       "      <td>270218.0</td>\n",
       "      <td>1.0</td>\n",
       "      <td>33.252635</td>\n",
       "      <td>&lt;=50K</td>\n",
       "      <td>132.556020</td>\n",
       "      <td>40.0</td>\n",
       "      <td>0.0</td>\n",
       "    </tr>\n",
       "    <tr>\n",
       "      <th>...</th>\n",
       "      <td>...</td>\n",
       "      <td>...</td>\n",
       "      <td>...</td>\n",
       "      <td>...</td>\n",
       "      <td>...</td>\n",
       "      <td>...</td>\n",
       "      <td>...</td>\n",
       "      <td>...</td>\n",
       "      <td>...</td>\n",
       "      <td>...</td>\n",
       "      <td>...</td>\n",
       "      <td>...</td>\n",
       "      <td>...</td>\n",
       "      <td>...</td>\n",
       "      <td>...</td>\n",
       "      <td>...</td>\n",
       "      <td>...</td>\n",
       "      <td>...</td>\n",
       "      <td>...</td>\n",
       "      <td>...</td>\n",
       "      <td>...</td>\n",
       "      <td>...</td>\n",
       "    </tr>\n",
       "    <tr>\n",
       "      <th>3978</th>\n",
       "      <td>3978</td>\n",
       "      <td>John Mcneely</td>\n",
       "      <td>00547 Fuentes Squares Suite 736\\r\\nNew Kenneth...</td>\n",
       "      <td>8.797682</td>\n",
       "      <td>f</td>\n",
       "      <td>10.0</td>\n",
       "      <td>Not-in-family</td>\n",
       "      <td>0.961030</td>\n",
       "      <td>146.710938</td>\n",
       "      <td>19.859244</td>\n",
       "      <td>0.0</td>\n",
       "      <td>84.500027</td>\n",
       "      <td>0.190713</td>\n",
       "      <td>Sales|United-States\\r\\r\\nnan -- Private|White</td>\n",
       "      <td>Some-college</td>\n",
       "      <td>196278.0</td>\n",
       "      <td>0.0</td>\n",
       "      <td>41.346507</td>\n",
       "      <td>&lt;=50K</td>\n",
       "      <td>2.650502</td>\n",
       "      <td>40.0</td>\n",
       "      <td>0.0</td>\n",
       "    </tr>\n",
       "    <tr>\n",
       "      <th>3979</th>\n",
       "      <td>3979</td>\n",
       "      <td>Lonnie Grimshaw</td>\n",
       "      <td>848 Bautista Loaf Apt. 958\\r\\nMatthewtown, VA ...</td>\n",
       "      <td>10.256116</td>\n",
       "      <td>f</td>\n",
       "      <td>10.0</td>\n",
       "      <td>Own-child</td>\n",
       "      <td>1.611029</td>\n",
       "      <td>77.781250</td>\n",
       "      <td>15.652941</td>\n",
       "      <td>0.0</td>\n",
       "      <td>121.852175</td>\n",
       "      <td>0.760278</td>\n",
       "      <td>Prof_specialty|United-States\\r\\r\\nNever-marrie...</td>\n",
       "      <td>Some-college</td>\n",
       "      <td>325179.0</td>\n",
       "      <td>0.0</td>\n",
       "      <td>41.385561</td>\n",
       "      <td>&lt;=50K</td>\n",
       "      <td>1.889632</td>\n",
       "      <td>50.0</td>\n",
       "      <td>0.0</td>\n",
       "    </tr>\n",
       "    <tr>\n",
       "      <th>3980</th>\n",
       "      <td>3980</td>\n",
       "      <td>Miguel Williams</td>\n",
       "      <td>PSC 1474, Box 2402\\r\\nAPO AE 13323</td>\n",
       "      <td>18.157320</td>\n",
       "      <td>f</td>\n",
       "      <td>10.0</td>\n",
       "      <td>Unmarried</td>\n",
       "      <td>-0.151965</td>\n",
       "      <td>132.976562</td>\n",
       "      <td>11.269939</td>\n",
       "      <td>0.0</td>\n",
       "      <td>354.366039</td>\n",
       "      <td>0.055109</td>\n",
       "      <td>?|United-States\\r\\r\\nNever-married -- ?|White</td>\n",
       "      <td>Some-college</td>\n",
       "      <td>30237.0</td>\n",
       "      <td>0.0</td>\n",
       "      <td>51.832734</td>\n",
       "      <td>&lt;=50K</td>\n",
       "      <td>0.714883</td>\n",
       "      <td>40.0</td>\n",
       "      <td>0.0</td>\n",
       "    </tr>\n",
       "    <tr>\n",
       "      <th>3981</th>\n",
       "      <td>3981</td>\n",
       "      <td>Walter Spencer</td>\n",
       "      <td>620 Andrews Stream Apt. 835\\r\\nNorth Markland,...</td>\n",
       "      <td>3.514654</td>\n",
       "      <td>f</td>\n",
       "      <td>10.0</td>\n",
       "      <td>Not-in-family</td>\n",
       "      <td>1.883394</td>\n",
       "      <td>110.882812</td>\n",
       "      <td>44.242265</td>\n",
       "      <td>0.0</td>\n",
       "      <td>11.214745</td>\n",
       "      <td>0.586854</td>\n",
       "      <td>Other-service|United-States\\r\\r\\nNever-married...</td>\n",
       "      <td>Some-college</td>\n",
       "      <td>238685.0</td>\n",
       "      <td>0.0</td>\n",
       "      <td>38.252986</td>\n",
       "      <td>&lt;=50K</td>\n",
       "      <td>12.603679</td>\n",
       "      <td>32.0</td>\n",
       "      <td>0.0</td>\n",
       "    </tr>\n",
       "    <tr>\n",
       "      <th>3982</th>\n",
       "      <td>3982</td>\n",
       "      <td>Eric Lurvey</td>\n",
       "      <td>82950 Harding Knolls\\r\\nMcmahonburgh, ID 09644</td>\n",
       "      <td>6.509254</td>\n",
       "      <td>f</td>\n",
       "      <td>4.0</td>\n",
       "      <td>Husband</td>\n",
       "      <td>0.506460</td>\n",
       "      <td>103.804688</td>\n",
       "      <td>22.377208</td>\n",
       "      <td>0.0</td>\n",
       "      <td>45.607074</td>\n",
       "      <td>0.533457</td>\n",
       "      <td>Craft-repair|United-States\\r\\r\\nMarried-civ-sp...</td>\n",
       "      <td>7th-8th</td>\n",
       "      <td>150516.0</td>\n",
       "      <td>0.0</td>\n",
       "      <td>44.337142</td>\n",
       "      <td>&lt;=50K</td>\n",
       "      <td>3.806856</td>\n",
       "      <td>24.0</td>\n",
       "      <td>0.0</td>\n",
       "    </tr>\n",
       "  </tbody>\n",
       "</table>\n",
       "<p>3983 rows × 22 columns</p>\n",
       "</div>"
      ],
      "text/plain": [
       "      Unnamed: 0             name  ... hours-per-week  capital-loss\n",
       "0              0   Milton Stamper  ...           35.0           0.0\n",
       "1              1     Michael Pope  ...           40.0           0.0\n",
       "2              2  Leonard Buckley  ...           40.0           0.0\n",
       "3              3   Ricky Paterson  ...           32.0           0.0\n",
       "4              4    John Fontaine  ...           40.0           0.0\n",
       "...          ...              ...  ...            ...           ...\n",
       "3978        3978     John Mcneely  ...           40.0           0.0\n",
       "3979        3979  Lonnie Grimshaw  ...           50.0           0.0\n",
       "3980        3980  Miguel Williams  ...           40.0           0.0\n",
       "3981        3981   Walter Spencer  ...           32.0           0.0\n",
       "3982        3982      Eric Lurvey  ...           24.0           0.0\n",
       "\n",
       "[3983 rows x 22 columns]"
      ]
     },
     "execution_count": 24,
     "metadata": {
      "tags": []
     },
     "output_type": "execute_result"
    }
   ],
   "source": [
    "train"
   ]
  },
  {
   "cell_type": "code",
   "execution_count": 0,
   "metadata": {
    "colab": {
     "base_uri": "https://localhost:8080/",
     "height": 487
    },
    "colab_type": "code",
    "id": "JnyKfKqWeHbT",
    "outputId": "ff278df1-3541-4773-ff71-4d4cf5a59a8f"
   },
   "outputs": [
    {
     "name": "stdout",
     "output_type": "stream",
     "text": [
      "<class 'pandas.core.frame.DataFrame'>\n",
      "RangeIndex: 3983 entries, 0 to 3982\n",
      "Data columns (total 22 columns):\n",
      "Unnamed: 0          3983 non-null int64\n",
      "name                3983 non-null object\n",
      "address             3983 non-null object\n",
      "kurtosis_oxygen     3962 non-null float64\n",
      "pregnant            3970 non-null object\n",
      "education-num       3970 non-null float64\n",
      "relationship        3970 non-null object\n",
      "skewness_glucose    3967 non-null float64\n",
      "mean_glucose        3965 non-null float64\n",
      "std_oxygen          3970 non-null float64\n",
      "capital-gain        3969 non-null float64\n",
      "skewness_oxygen     3970 non-null float64\n",
      "kurtosis_glucose    3964 non-null float64\n",
      "personal_info       3970 non-null object\n",
      "education           3964 non-null object\n",
      "fnlwgt              3970 non-null float64\n",
      "class               3969 non-null float64\n",
      "std_glucose         3972 non-null float64\n",
      "income              3970 non-null object\n",
      "mean_oxygen         3969 non-null float64\n",
      "hours-per-week      3968 non-null float64\n",
      "capital-loss        3968 non-null float64\n",
      "dtypes: float64(14), int64(1), object(7)\n",
      "memory usage: 684.7+ KB\n",
      "None\n"
     ]
    }
   ],
   "source": [
    "#Basic description of data dimensions.\n",
    "print(train.info())"
   ]
  },
  {
   "cell_type": "markdown",
   "metadata": {
    "colab_type": "text",
    "id": "z8WSK6Z1fRX8"
   },
   "source": [
    "The dataset have 22 dimensions (columns)\n",
    "Dimensions are\n",
    "1.   The position in the datase\n",
    "2.   The name of the person [first name last, name]\n",
    "3.   Oxigen peakedness \n",
    "4.   Is the person pregnant. {error. interchangable boolean FALSE / f used}\n",
    "5.   Education indicator\n",
    "7.   Relationship indicator\n",
    "8.   glucose indicator\n",
    "\n",
    "\n",
    "\n",
    "\n",
    "\n",
    "\n",
    "\n",
    "\n",
    "\n"
   ]
  },
  {
   "cell_type": "code",
   "execution_count": 0,
   "metadata": {
    "colab": {
     "base_uri": "https://localhost:8080/",
     "height": 34
    },
    "colab_type": "code",
    "id": "yH_mzVSVgzyu",
    "outputId": "cbce9f05-673b-420c-8461-f288a0cf6446"
   },
   "outputs": [
    {
     "data": {
      "text/plain": [
       "array(['f', 'FALSE', 't', 'F', nan, 'TRUE', 'T'], dtype=object)"
      ]
     },
     "execution_count": 27,
     "metadata": {
      "tags": []
     },
     "output_type": "execute_result"
    }
   ],
   "source": [
    "#type of entries in the column pregnant\n",
    "pd.unique(train['pregnant'])"
   ]
  },
  {
   "cell_type": "markdown",
   "metadata": {
    "colab_type": "text",
    "id": "1WAqyAcpqNLe"
   },
   "source": [
    "There are 7 unique types of entries:\n",
    "\n",
    "If the person is not pregnant the entry can be: \"f\", \"F\" or \"FALSE\"\n",
    "\n",
    "In case that the person is pregnant the entry can be: \"t\", \"T\" or \"TRUE\"\n",
    "\n",
    "For some person there is no information these entries are \"non\""
   ]
  },
  {
   "cell_type": "code",
   "execution_count": 0,
   "metadata": {
    "colab": {
     "base_uri": "https://localhost:8080/",
     "height": 50
    },
    "colab_type": "code",
    "id": "ccn33w2xrf2l",
    "outputId": "7b7a1860-f1b3-4882-f57a-91f560fba7e3"
   },
   "outputs": [
    {
     "data": {
      "text/plain": [
       "array([' Unmarried', ' Husband', ' Not-in-family', ' Own-child', ' Wife',\n",
       "       ' Other-relative', nan], dtype=object)"
      ]
     },
     "execution_count": 28,
     "metadata": {
      "tags": []
     },
     "output_type": "execute_result"
    }
   ],
   "source": [
    "#type of entries in the column pregnant\n",
    "pd.unique(train['relationship'])"
   ]
  },
  {
   "cell_type": "markdown",
   "metadata": {
    "colab_type": "text",
    "id": "sCst0vbdutgG"
   },
   "source": [
    "There are 7 different enries in the relationship column. Some data is missing ('nan')"
   ]
  },
  {
   "cell_type": "code",
   "execution_count": 0,
   "metadata": {
    "colab": {
     "base_uri": "https://localhost:8080/",
     "height": 34
    },
    "colab_type": "code",
    "id": "AI6SbUbUvtIS",
    "outputId": "9852411d-e0fa-4d09-f674-5e4aa7d1af2e"
   },
   "outputs": [
    {
     "data": {
      "text/plain": [
       "array([' <=50K', ' >50K', nan], dtype=object)"
      ]
     },
     "execution_count": 29,
     "metadata": {
      "tags": []
     },
     "output_type": "execute_result"
    }
   ],
   "source": [
    "#typ of entries in the column income\n",
    "pd.unique(train['income'])"
   ]
  },
  {
   "cell_type": "markdown",
   "metadata": {
    "colab_type": "text",
    "id": "fPioXRl3R4-L"
   },
   "source": [
    "The entry can be only '<=50K' or '50K'. There are some missing entries 'nan'"
   ]
  },
  {
   "cell_type": "code",
   "execution_count": 0,
   "metadata": {
    "colab": {
     "base_uri": "https://localhost:8080/",
     "height": 604
    },
    "colab_type": "code",
    "id": "FsmB88uVz876",
    "outputId": "43cc47c3-5700-48b8-898a-56cef9c316e0"
   },
   "outputs": [
    {
     "data": {
      "text/html": [
       "<div>\n",
       "<style scoped>\n",
       "    .dataframe tbody tr th:only-of-type {\n",
       "        vertical-align: middle;\n",
       "    }\n",
       "\n",
       "    .dataframe tbody tr th {\n",
       "        vertical-align: top;\n",
       "    }\n",
       "\n",
       "    .dataframe thead th {\n",
       "        text-align: right;\n",
       "    }\n",
       "</style>\n",
       "<table border=\"1\" class=\"dataframe\">\n",
       "  <thead>\n",
       "    <tr style=\"text-align: right;\">\n",
       "      <th></th>\n",
       "      <th>Unnamed: 0</th>\n",
       "      <th>kurtosis_oxygen</th>\n",
       "      <th>skewness_glucose</th>\n",
       "      <th>mean_glucose</th>\n",
       "      <th>std_oxygen</th>\n",
       "      <th>capital-gain</th>\n",
       "      <th>skewness_oxygen</th>\n",
       "      <th>kurtosis_glucose</th>\n",
       "      <th>fnlwgt</th>\n",
       "      <th>class</th>\n",
       "      <th>std_glucose</th>\n",
       "      <th>mean_oxygen</th>\n",
       "      <th>hours-per-week</th>\n",
       "      <th>capital-loss</th>\n",
       "    </tr>\n",
       "    <tr>\n",
       "      <th>education-num</th>\n",
       "      <th></th>\n",
       "      <th></th>\n",
       "      <th></th>\n",
       "      <th></th>\n",
       "      <th></th>\n",
       "      <th></th>\n",
       "      <th></th>\n",
       "      <th></th>\n",
       "      <th></th>\n",
       "      <th></th>\n",
       "      <th></th>\n",
       "      <th></th>\n",
       "      <th></th>\n",
       "      <th></th>\n",
       "    </tr>\n",
       "  </thead>\n",
       "  <tbody>\n",
       "    <tr>\n",
       "      <th>1.0</th>\n",
       "      <td>2846.000000</td>\n",
       "      <td>6.987394</td>\n",
       "      <td>10.412520</td>\n",
       "      <td>92.916016</td>\n",
       "      <td>32.598619</td>\n",
       "      <td>0.000000</td>\n",
       "      <td>62.407392</td>\n",
       "      <td>1.459759</td>\n",
       "      <td>291248.250000</td>\n",
       "      <td>0.250000</td>\n",
       "      <td>41.059904</td>\n",
       "      <td>30.009197</td>\n",
       "      <td>45.333333</td>\n",
       "      <td>429.750000</td>\n",
       "    </tr>\n",
       "    <tr>\n",
       "      <th>2.0</th>\n",
       "      <td>2301.368421</td>\n",
       "      <td>7.765739</td>\n",
       "      <td>3.392352</td>\n",
       "      <td>100.018914</td>\n",
       "      <td>32.789404</td>\n",
       "      <td>0.000000</td>\n",
       "      <td>107.225183</td>\n",
       "      <td>0.942774</td>\n",
       "      <td>224298.842105</td>\n",
       "      <td>0.263158</td>\n",
       "      <td>-355.348881</td>\n",
       "      <td>20.890248</td>\n",
       "      <td>34.105263</td>\n",
       "      <td>206.000000</td>\n",
       "    </tr>\n",
       "    <tr>\n",
       "      <th>5.0</th>\n",
       "      <td>2212.126761</td>\n",
       "      <td>8.304566</td>\n",
       "      <td>3.469963</td>\n",
       "      <td>104.973041</td>\n",
       "      <td>27.510060</td>\n",
       "      <td>45.788732</td>\n",
       "      <td>109.079129</td>\n",
       "      <td>0.794537</td>\n",
       "      <td>180894.971831</td>\n",
       "      <td>0.183099</td>\n",
       "      <td>-161.224253</td>\n",
       "      <td>16.691896</td>\n",
       "      <td>37.507042</td>\n",
       "      <td>0.000000</td>\n",
       "    </tr>\n",
       "    <tr>\n",
       "      <th>4.0</th>\n",
       "      <td>1930.468750</td>\n",
       "      <td>7.367253</td>\n",
       "      <td>3.873016</td>\n",
       "      <td>103.582764</td>\n",
       "      <td>31.887100</td>\n",
       "      <td>127.750000</td>\n",
       "      <td>90.340369</td>\n",
       "      <td>0.905099</td>\n",
       "      <td>176937.239583</td>\n",
       "      <td>0.250000</td>\n",
       "      <td>-135.182569</td>\n",
       "      <td>16.817700</td>\n",
       "      <td>39.375000</td>\n",
       "      <td>55.093750</td>\n",
       "    </tr>\n",
       "    <tr>\n",
       "      <th>6.0</th>\n",
       "      <td>1893.837209</td>\n",
       "      <td>7.060414</td>\n",
       "      <td>3.827329</td>\n",
       "      <td>102.692345</td>\n",
       "      <td>32.306050</td>\n",
       "      <td>137.515625</td>\n",
       "      <td>83.781326</td>\n",
       "      <td>0.894988</td>\n",
       "      <td>196401.542636</td>\n",
       "      <td>0.286822</td>\n",
       "      <td>50.587716</td>\n",
       "      <td>20.497388</td>\n",
       "      <td>35.193798</td>\n",
       "      <td>58.507812</td>\n",
       "    </tr>\n",
       "    <tr>\n",
       "      <th>3.0</th>\n",
       "      <td>2142.880952</td>\n",
       "      <td>8.146507</td>\n",
       "      <td>3.614566</td>\n",
       "      <td>103.588542</td>\n",
       "      <td>26.515877</td>\n",
       "      <td>173.761905</td>\n",
       "      <td>101.679278</td>\n",
       "      <td>0.832740</td>\n",
       "      <td>230359.833333</td>\n",
       "      <td>0.243902</td>\n",
       "      <td>-209.807806</td>\n",
       "      <td>11.625378</td>\n",
       "      <td>41.571429</td>\n",
       "      <td>173.642857</td>\n",
       "    </tr>\n",
       "    <tr>\n",
       "      <th>7.0</th>\n",
       "      <td>1904.197080</td>\n",
       "      <td>7.783536</td>\n",
       "      <td>3.927491</td>\n",
       "      <td>103.362226</td>\n",
       "      <td>28.114591</td>\n",
       "      <td>217.861314</td>\n",
       "      <td>92.893973</td>\n",
       "      <td>0.844080</td>\n",
       "      <td>200491.240876</td>\n",
       "      <td>0.218978</td>\n",
       "      <td>10.449314</td>\n",
       "      <td>13.674011</td>\n",
       "      <td>31.722628</td>\n",
       "      <td>16.941606</td>\n",
       "    </tr>\n",
       "    <tr>\n",
       "      <th>9.0</th>\n",
       "      <td>2012.149920</td>\n",
       "      <td>7.528773</td>\n",
       "      <td>4.018455</td>\n",
       "      <td>101.205746</td>\n",
       "      <td>30.584891</td>\n",
       "      <td>361.428000</td>\n",
       "      <td>94.009145</td>\n",
       "      <td>0.922009</td>\n",
       "      <td>189020.119808</td>\n",
       "      <td>0.248199</td>\n",
       "      <td>94.017053</td>\n",
       "      <td>18.621192</td>\n",
       "      <td>40.743200</td>\n",
       "      <td>62.943245</td>\n",
       "    </tr>\n",
       "    <tr>\n",
       "      <th>12.0</th>\n",
       "      <td>1695.811024</td>\n",
       "      <td>7.754967</td>\n",
       "      <td>2.850064</td>\n",
       "      <td>105.435531</td>\n",
       "      <td>29.963935</td>\n",
       "      <td>465.000000</td>\n",
       "      <td>96.690815</td>\n",
       "      <td>0.724759</td>\n",
       "      <td>187517.000000</td>\n",
       "      <td>0.188976</td>\n",
       "      <td>-102.109668</td>\n",
       "      <td>13.807771</td>\n",
       "      <td>41.669291</td>\n",
       "      <td>58.547619</td>\n",
       "    </tr>\n",
       "    <tr>\n",
       "      <th>11.0</th>\n",
       "      <td>2122.540881</td>\n",
       "      <td>6.757487</td>\n",
       "      <td>6.727735</td>\n",
       "      <td>98.238133</td>\n",
       "      <td>34.970661</td>\n",
       "      <td>501.899371</td>\n",
       "      <td>81.504344</td>\n",
       "      <td>1.239771</td>\n",
       "      <td>177161.974684</td>\n",
       "      <td>0.227848</td>\n",
       "      <td>-79.286879</td>\n",
       "      <td>26.088359</td>\n",
       "      <td>41.886076</td>\n",
       "      <td>46.553459</td>\n",
       "    </tr>\n",
       "    <tr>\n",
       "      <th>10.0</th>\n",
       "      <td>2013.641975</td>\n",
       "      <td>7.347902</td>\n",
       "      <td>4.415679</td>\n",
       "      <td>100.784954</td>\n",
       "      <td>31.312372</td>\n",
       "      <td>531.995495</td>\n",
       "      <td>87.977726</td>\n",
       "      <td>0.990325</td>\n",
       "      <td>180365.436937</td>\n",
       "      <td>0.259551</td>\n",
       "      <td>60.104175</td>\n",
       "      <td>17.614180</td>\n",
       "      <td>38.916854</td>\n",
       "      <td>72.674550</td>\n",
       "    </tr>\n",
       "    <tr>\n",
       "      <th>8.0</th>\n",
       "      <td>1667.884615</td>\n",
       "      <td>7.138895</td>\n",
       "      <td>3.317457</td>\n",
       "      <td>100.198070</td>\n",
       "      <td>31.804845</td>\n",
       "      <td>741.196078</td>\n",
       "      <td>85.361304</td>\n",
       "      <td>0.909841</td>\n",
       "      <td>196045.823529</td>\n",
       "      <td>0.326923</td>\n",
       "      <td>324.890384</td>\n",
       "      <td>17.324267</td>\n",
       "      <td>36.576923</td>\n",
       "      <td>63.903846</td>\n",
       "    </tr>\n",
       "    <tr>\n",
       "      <th>16.0</th>\n",
       "      <td>2163.181818</td>\n",
       "      <td>6.727121</td>\n",
       "      <td>4.445728</td>\n",
       "      <td>100.984197</td>\n",
       "      <td>33.819753</td>\n",
       "      <td>1821.522727</td>\n",
       "      <td>79.261002</td>\n",
       "      <td>1.005618</td>\n",
       "      <td>172067.522727</td>\n",
       "      <td>0.340909</td>\n",
       "      <td>-183.668819</td>\n",
       "      <td>20.309308</td>\n",
       "      <td>45.886364</td>\n",
       "      <td>365.604651</td>\n",
       "    </tr>\n",
       "    <tr>\n",
       "      <th>13.0</th>\n",
       "      <td>1981.982063</td>\n",
       "      <td>7.416997</td>\n",
       "      <td>4.386384</td>\n",
       "      <td>100.793092</td>\n",
       "      <td>31.509751</td>\n",
       "      <td>2018.971557</td>\n",
       "      <td>92.724570</td>\n",
       "      <td>0.977461</td>\n",
       "      <td>185206.818045</td>\n",
       "      <td>0.267669</td>\n",
       "      <td>81.425142</td>\n",
       "      <td>18.344682</td>\n",
       "      <td>41.938438</td>\n",
       "      <td>112.430285</td>\n",
       "    </tr>\n",
       "    <tr>\n",
       "      <th>14.0</th>\n",
       "      <td>1863.981395</td>\n",
       "      <td>7.203933</td>\n",
       "      <td>4.883103</td>\n",
       "      <td>99.440780</td>\n",
       "      <td>31.606954</td>\n",
       "      <td>2985.239437</td>\n",
       "      <td>88.373618</td>\n",
       "      <td>1.054878</td>\n",
       "      <td>173803.356808</td>\n",
       "      <td>0.283721</td>\n",
       "      <td>68.141443</td>\n",
       "      <td>19.564580</td>\n",
       "      <td>43.497653</td>\n",
       "      <td>144.341121</td>\n",
       "    </tr>\n",
       "    <tr>\n",
       "      <th>15.0</th>\n",
       "      <td>2111.393443</td>\n",
       "      <td>6.539800</td>\n",
       "      <td>4.716990</td>\n",
       "      <td>96.845159</td>\n",
       "      <td>36.890241</td>\n",
       "      <td>8935.196721</td>\n",
       "      <td>79.446557</td>\n",
       "      <td>1.117218</td>\n",
       "      <td>188177.688525</td>\n",
       "      <td>0.377049</td>\n",
       "      <td>61.023405</td>\n",
       "      <td>28.465157</td>\n",
       "      <td>49.786885</td>\n",
       "      <td>337.131148</td>\n",
       "    </tr>\n",
       "  </tbody>\n",
       "</table>\n",
       "</div>"
      ],
      "text/plain": [
       "                Unnamed: 0  kurtosis_oxygen  ...  hours-per-week  capital-loss\n",
       "education-num                                ...                              \n",
       "1.0            2846.000000         6.987394  ...       45.333333    429.750000\n",
       "2.0            2301.368421         7.765739  ...       34.105263    206.000000\n",
       "5.0            2212.126761         8.304566  ...       37.507042      0.000000\n",
       "4.0            1930.468750         7.367253  ...       39.375000     55.093750\n",
       "6.0            1893.837209         7.060414  ...       35.193798     58.507812\n",
       "3.0            2142.880952         8.146507  ...       41.571429    173.642857\n",
       "7.0            1904.197080         7.783536  ...       31.722628     16.941606\n",
       "9.0            2012.149920         7.528773  ...       40.743200     62.943245\n",
       "12.0           1695.811024         7.754967  ...       41.669291     58.547619\n",
       "11.0           2122.540881         6.757487  ...       41.886076     46.553459\n",
       "10.0           2013.641975         7.347902  ...       38.916854     72.674550\n",
       "8.0            1667.884615         7.138895  ...       36.576923     63.903846\n",
       "16.0           2163.181818         6.727121  ...       45.886364    365.604651\n",
       "13.0           1981.982063         7.416997  ...       41.938438    112.430285\n",
       "14.0           1863.981395         7.203933  ...       43.497653    144.341121\n",
       "15.0           2111.393443         6.539800  ...       49.786885    337.131148\n",
       "\n",
       "[16 rows x 14 columns]"
      ]
     },
     "execution_count": 9,
     "metadata": {
      "tags": []
     },
     "output_type": "execute_result"
    }
   ],
   "source": [
    "#correlation between the education and the capital gain\n",
    "degree_captail = (train.groupby(['education-num']).mean()).sort_values(by='capital-gain')\n",
    "degree_captail[education-num]"
   ]
  },
  {
   "cell_type": "code",
   "execution_count": 0,
   "metadata": {
    "colab": {
     "base_uri": "https://localhost:8080/",
     "height": 309
    },
    "colab_type": "code",
    "id": "ZOCtB6gp8XRZ",
    "outputId": "efb217aa-3c30-42d0-f170-3ca3e1076223"
   },
   "outputs": [
    {
     "data": {
      "text/plain": [
       "<matplotlib.axes._subplots.AxesSubplot at 0x7f75e0d50128>"
      ]
     },
     "execution_count": 50,
     "metadata": {
      "tags": []
     },
     "output_type": "execute_result"
    },
    {
     "data": {
      "image/png": "[encoded data removed]",
      "text/plain": [
       "<Figure size 432x288 with 1 Axes>"
      ]
     },
     "metadata": {
      "tags": []
     },
     "output_type": "display_data"
    }
   ],
   "source": [
    "degree_captail.plot(kind='bar', y='capital-gain')"
   ]
  },
  {
   "cell_type": "markdown",
   "metadata": {
    "colab_type": "text",
    "id": "ZwWtxieO3-IU"
   },
   "source": [
    "As higher the degree of the education rises so does the captial. There is slight correlation between the education and the years of education. Only a smaller diversion between it.\n",
    "\n"
   ]
  },
  {
   "cell_type": "code",
   "execution_count": 0,
   "metadata": {
    "colab": {
     "base_uri": "https://localhost:8080/",
     "height": 286
    },
    "colab_type": "code",
    "id": "-QPVmO3Msv0L",
    "outputId": "dabe8e11-de4d-4690-f054-e33f37b7fdaf"
   },
   "outputs": [
    {
     "data": {
      "text/plain": [
       "Unnamed: 0            2000.629366\n",
       "kurtosis_oxygen          8.973845\n",
       "education-num            9.997621\n",
       "skewness_glucose         0.358344\n",
       "mean_glucose           116.477232\n",
       "std_oxygen              22.702677\n",
       "capital-gain           973.789116\n",
       "skewness_oxygen        115.843037\n",
       "kurtosis_glucose         0.208206\n",
       "fnlwgt              186914.553177\n",
       "class                    0.000000\n",
       "std_glucose             58.111073\n",
       "mean_oxygen              7.966720\n",
       "hours-per-week          40.144799\n",
       "capital-loss            82.948299\n",
       "dtype: float64"
      ]
     },
     "execution_count": 25,
     "metadata": {
      "tags": []
     },
     "output_type": "execute_result"
    }
   ],
   "source": [
    "train[train['class'] == 0].mean()"
   ]
  },
  {
   "cell_type": "code",
   "execution_count": 0,
   "metadata": {
    "colab": {
     "base_uri": "https://localhost:8080/",
     "height": 286
    },
    "colab_type": "code",
    "id": "_sQB99oHswhp",
    "outputId": "f8fe3fdf-2bd7-4bf3-e3bf-21d40c7ae4f8"
   },
   "outputs": [
    {
     "data": {
      "text/plain": [
       "Unnamed: 0            1960.326471\n",
       "kurtosis_oxygen          2.847842\n",
       "education-num           10.154680\n",
       "skewness_glucose        15.528562\n",
       "mean_glucose            56.841146\n",
       "std_oxygen              55.735716\n",
       "capital-gain           903.444882\n",
       "skewness_oxygen         18.892078\n",
       "kurtosis_glucose         3.122749\n",
       "fnlwgt              183018.368110\n",
       "class                    1.000000\n",
       "std_glucose             29.587922\n",
       "mean_oxygen             48.872973\n",
       "hours-per-week          40.677196\n",
       "capital-loss            88.749016\n",
       "dtype: float64"
      ]
     },
     "execution_count": 26,
     "metadata": {
      "tags": []
     },
     "output_type": "execute_result"
    }
   ],
   "source": [
    "train[train['class'] == 1].mean()"
   ]
  },
  {
   "cell_type": "markdown",
   "metadata": {
    "colab_type": "text",
    "id": "NFum4R0ds2hw"
   },
   "source": [
    "Our hypothesis is that sick people have lower kurtosis_oxygen and skewness oxigen levels while having higher std_oxigen values. We have analysed the rows independently and as an average. There are some other differences in the average view, but upon closer inspection we found out that some individuals have high values of some substances, which raises the average."
   ]
  },
  {
   "cell_type": "code",
   "execution_count": 0,
   "metadata": {
    "colab": {
     "base_uri": "https://localhost:8080/",
     "height": 402
    },
    "colab_type": "code",
    "id": "A1_2iUqT8WNU",
    "outputId": "1ebc799b-c7ac-4af8-e4d3-53ecc8933f8b"
   },
   "outputs": [
    {
     "data": {
      "text/html": [
       "<div>\n",
       "<style scoped>\n",
       "    .dataframe tbody tr th:only-of-type {\n",
       "        vertical-align: middle;\n",
       "    }\n",
       "\n",
       "    .dataframe tbody tr th {\n",
       "        vertical-align: top;\n",
       "    }\n",
       "\n",
       "    .dataframe thead th {\n",
       "        text-align: right;\n",
       "    }\n",
       "</style>\n",
       "<table border=\"1\" class=\"dataframe\">\n",
       "  <thead>\n",
       "    <tr style=\"text-align: right;\">\n",
       "      <th></th>\n",
       "      <th>Unnamed: 0</th>\n",
       "      <th>name</th>\n",
       "      <th>address</th>\n",
       "      <th>age</th>\n",
       "      <th>sex</th>\n",
       "      <th>date_of_birth</th>\n",
       "    </tr>\n",
       "  </thead>\n",
       "  <tbody>\n",
       "    <tr>\n",
       "      <th>0</th>\n",
       "      <td>0</td>\n",
       "      <td>Roscoe Bohannon</td>\n",
       "      <td>7183 Osborne Ways Apt. 651\\nEast Andrew, OH 53211</td>\n",
       "      <td>70.0</td>\n",
       "      <td>Male</td>\n",
       "      <td>1949-07-24</td>\n",
       "    </tr>\n",
       "    <tr>\n",
       "      <th>1</th>\n",
       "      <td>1</td>\n",
       "      <td>Ernest Kline</td>\n",
       "      <td>391 Ball Road Suite 961\\nFlowersborough, IN 57550</td>\n",
       "      <td>49.0</td>\n",
       "      <td>Male</td>\n",
       "      <td>1969-12-16</td>\n",
       "    </tr>\n",
       "    <tr>\n",
       "      <th>2</th>\n",
       "      <td>2</td>\n",
       "      <td>Harold Hendriks</td>\n",
       "      <td>8702 Vincent Square\\nNew Jerryfurt, CO 30614</td>\n",
       "      <td>40.0</td>\n",
       "      <td>Male</td>\n",
       "      <td>1979-07-22</td>\n",
       "    </tr>\n",
       "    <tr>\n",
       "      <th>3</th>\n",
       "      <td>3</td>\n",
       "      <td>Randy Baptiste</td>\n",
       "      <td>2751 Harris Crossroad\\nWest Ashley, CA 30311</td>\n",
       "      <td>53.0</td>\n",
       "      <td>Male</td>\n",
       "      <td>1965-12-28</td>\n",
       "    </tr>\n",
       "    <tr>\n",
       "      <th>4</th>\n",
       "      <td>4</td>\n",
       "      <td>Melissa Polk</td>\n",
       "      <td>904 Robert Cliffs Suite 186\\nWest Kyle, CO 77139</td>\n",
       "      <td>67.0</td>\n",
       "      <td>female</td>\n",
       "      <td>1952-07-11</td>\n",
       "    </tr>\n",
       "    <tr>\n",
       "      <th>...</th>\n",
       "      <td>...</td>\n",
       "      <td>...</td>\n",
       "      <td>...</td>\n",
       "      <td>...</td>\n",
       "      <td>...</td>\n",
       "      <td>...</td>\n",
       "    </tr>\n",
       "    <tr>\n",
       "      <th>3928</th>\n",
       "      <td>3928</td>\n",
       "      <td>Christopher Winfield</td>\n",
       "      <td>8582 Lee Roads\\nCostaburgh, SC 21897</td>\n",
       "      <td>52.0</td>\n",
       "      <td>Male</td>\n",
       "      <td>1967/03/17</td>\n",
       "    </tr>\n",
       "    <tr>\n",
       "      <th>3929</th>\n",
       "      <td>3929</td>\n",
       "      <td>Salvador Donnell</td>\n",
       "      <td>68430 Erik Terrace Suite 279\\nPort Adamborough...</td>\n",
       "      <td>70.0</td>\n",
       "      <td>Male</td>\n",
       "      <td>1948-12-08</td>\n",
       "    </tr>\n",
       "    <tr>\n",
       "      <th>3930</th>\n",
       "      <td>3930</td>\n",
       "      <td>Wesley Goldstein</td>\n",
       "      <td>Unit 8416 Box 3801\\nDPO AE 31166</td>\n",
       "      <td>74.0</td>\n",
       "      <td>Male</td>\n",
       "      <td>1945-10-22</td>\n",
       "    </tr>\n",
       "    <tr>\n",
       "      <th>3931</th>\n",
       "      <td>3931</td>\n",
       "      <td>Jennifer Adams</td>\n",
       "      <td>34420 Brian Stream\\nLake Michaeltown, MS 01832</td>\n",
       "      <td>56.0</td>\n",
       "      <td>female</td>\n",
       "      <td>1963-01-05</td>\n",
       "    </tr>\n",
       "    <tr>\n",
       "      <th>3932</th>\n",
       "      <td>3932</td>\n",
       "      <td>Todd Longie</td>\n",
       "      <td>Unit 7931 Box 0601\\nDPO AE 50505</td>\n",
       "      <td>45.0</td>\n",
       "      <td>Male</td>\n",
       "      <td>1973-11-02 00 00 00</td>\n",
       "    </tr>\n",
       "  </tbody>\n",
       "</table>\n",
       "<p>3933 rows × 6 columns</p>\n",
       "</div>"
      ],
      "text/plain": [
       "      Unnamed: 0                  name  ...     sex        date_of_birth\n",
       "0              0       Roscoe Bohannon  ...    Male           1949-07-24\n",
       "1              1          Ernest Kline  ...    Male           1969-12-16\n",
       "2              2       Harold Hendriks  ...    Male           1979-07-22\n",
       "3              3        Randy Baptiste  ...    Male           1965-12-28\n",
       "4              4          Melissa Polk  ...  female           1952-07-11\n",
       "...          ...                   ...  ...     ...                  ...\n",
       "3928        3928  Christopher Winfield  ...    Male           1967/03/17\n",
       "3929        3929      Salvador Donnell  ...    Male           1948-12-08\n",
       "3930        3930      Wesley Goldstein  ...    Male           1945-10-22\n",
       "3931        3931        Jennifer Adams  ...  female           1963-01-05\n",
       "3932        3932           Todd Longie  ...    Male  1973-11-02 00 00 00\n",
       "\n",
       "[3933 rows x 6 columns]"
      ]
     },
     "execution_count": 43,
     "metadata": {
      "tags": []
     },
     "output_type": "execute_result"
    }
   ],
   "source": [
    "other"
   ]
  },
  {
   "cell_type": "code",
   "execution_count": 0,
   "metadata": {
    "colab": {
     "base_uri": "https://localhost:8080/",
     "height": 218
    },
    "colab_type": "code",
    "id": "fDoHhNVDk6lZ",
    "outputId": "dd8e052a-946f-4363-d449-04689c1765df"
   },
   "outputs": [
    {
     "name": "stdout",
     "output_type": "stream",
     "text": [
      "<class 'pandas.core.frame.DataFrame'>\n",
      "RangeIndex: 3933 entries, 0 to 3932\n",
      "Data columns (total 6 columns):\n",
      "Unnamed: 0       3933 non-null int64\n",
      "name             3933 non-null object\n",
      "address          3933 non-null object\n",
      "age              3540 non-null float64\n",
      "sex              3933 non-null object\n",
      "date_of_birth    3933 non-null object\n",
      "dtypes: float64(1), int64(1), object(4)\n",
      "memory usage: 184.5+ KB\n",
      "None\n"
     ]
    }
   ],
   "source": [
    "#Basic description of data dimensions.\n",
    "print(other.info())"
   ]
  },
  {
   "cell_type": "markdown",
   "metadata": {
    "colab_type": "text",
    "id": "ePJO2SbVlACT"
   },
   "source": [
    "The dataset have 6 dimensions (columns) Dimensions."
   ]
  },
  {
   "cell_type": "code",
   "execution_count": 0,
   "metadata": {
    "colab": {
     "base_uri": "https://localhost:8080/",
     "height": 34
    },
    "colab_type": "code",
    "id": "SWEftPQFlM1u",
    "outputId": "cf138fe0-8075-4c80-d6dd-f0efcc490dfc"
   },
   "outputs": [
    {
     "data": {
      "text/plain": [
       "array([' Male', 'female', ' Female', 'male'], dtype=object)"
      ]
     },
     "execution_count": 46,
     "metadata": {
      "tags": []
     },
     "output_type": "execute_result"
    }
   ],
   "source": [
    "#type of entries in the column pregnant\n",
    "pd.unique(other['sex'])"
   ]
  },
  {
   "cell_type": "markdown",
   "metadata": {
    "colab_type": "text",
    "id": "mzVWiDQClTt6"
   },
   "source": [
    "There are 4 unique types of entries:\n",
    "\n",
    "If the person is male the entry can be: \"Male\" or \"male\"\n",
    "\n",
    "If the person is female the entry can  be: \"Female\" or \"female\""
   ]
  },
  {
   "cell_type": "code",
   "execution_count": 0,
   "metadata": {
    "colab": {
     "base_uri": "https://localhost:8080/",
     "height": 50
    },
    "colab_type": "code",
    "id": "rRPkWKyClr9c",
    "outputId": "5dbc6667-4933-4429-e1f2-925c644fb23a"
   },
   "outputs": [
    {
     "data": {
      "text/plain": [
       "array(['1949-07-24', '1969-12-16', '1979-07-22', ..., '1945-10-22',\n",
       "       '1963-01-05', '1973-11-02 00 00 00'], dtype=object)"
      ]
     },
     "execution_count": 49,
     "metadata": {
      "tags": []
     },
     "output_type": "execute_result"
    }
   ],
   "source": [
    "pd.unique(other['date_of_birth'])"
   ]
  },
  {
   "cell_type": "markdown",
   "metadata": {
    "colab_type": "text",
    "id": "q6QrzvtHl7jF"
   },
   "source": [
    "There is only one type of date, YYYY,MM,DD exept the last enrty. The 0 have to be removed from the end of the string\n"
   ]
  },
  {
   "cell_type": "markdown",
   "metadata": {
    "colab_type": "text",
    "id": "VLNoeptguzHg"
   },
   "source": [
    "Identification of problems in the data:\n",
    "\n",
    "Inconsistency: There are many cases where the same value is marked in different ways. For example values of 'pregnant'. We will unify these inconsistencies.\n",
    "\n",
    "The order of columns: The columns in the data seem to be in a random order. We will rearrange it so that  columns representing similar values will be next to eachother.\n",
    "\n",
    "Column fnlwgt: We dont know what this column represents, we will probably remove it.\n",
    "\n",
    "Column Class: We know that this represents whether the person is ill or not. We will rename it so that it will be clear.\n",
    "\n",
    "Column names: In some cases it is not clear what the column represents. We will change the names of these columns so that this will be clear.\n",
    "\n",
    "Duplicate values: We will delete duplicated values\n",
    "\n",
    "Null values: There are some cases where values are missing or not given. 'nan' also seems to represent null value. We will unify these as well either by using an universal annotation or by allowing these columns to contain the value NULL.\n",
    "\n",
    "Negative values: Some instances have negative values. These seem to be incorrect. For example column 'skewness_oxygen'.\n",
    "\n"
   ]
  },
  {
   "cell_type": "markdown",
   "metadata": {
    "colab_type": "text",
    "id": "n1tcGz69Aazv"
   },
   "source": [
    "Changeing the non-numeric data"
   ]
  },
  {
   "cell_type": "code",
   "execution_count": 0,
   "metadata": {
    "colab": {
     "base_uri": "https://localhost:8080/",
     "height": 128
    },
    "colab_type": "code",
    "id": "1CtZqy5ABh9D",
    "outputId": "d6d7e70c-8b17-4f13-ac72-b41ffddabc29"
   },
   "outputs": [
    {
     "ename": "SyntaxError",
     "evalue": "ignored",
     "output_type": "error",
     "traceback": [
      "\u001b[0;36m  File \u001b[0;32m\"<ipython-input-8-ff4785de42f8>\"\u001b[0;36m, line \u001b[0;32m2\u001b[0m\n\u001b[0;31m    if c_db == 'f'\u001b[0m\n\u001b[0m                  ^\u001b[0m\n\u001b[0;31mSyntaxError\u001b[0m\u001b[0;31m:\u001b[0m invalid syntax\n"
     ]
    }
   ],
   "source": [
    "c_db = train['pregnant']\n",
    "if c_db['pregnant'] == t or c_db['pregnant'] == T or c_db['pregnant'] == TRUE: c_db['pregnant']\n"
   ]
  }
 ],
 "metadata": {
  "colab": {
   "collapsed_sections": [],
   "name": "IAU_project.ipynb",
   "provenance": []
  },
  "kernelspec": {
   "display_name": "Python 3",
   "language": "python",
   "name": "python3"
  },
  "language_info": {
   "codemirror_mode": {
    "name": "ipython",
    "version": 3
   },
   "file_extension": ".py",
   "mimetype": "text/x-python",
   "name": "python",
   "nbconvert_exporter": "python",
   "pygments_lexer": "ipython3",
   "version": "3.7.1"
  }
 },
 "nbformat": 4,
 "nbformat_minor": 1
}
